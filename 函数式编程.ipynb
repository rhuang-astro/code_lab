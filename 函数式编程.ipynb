{
 "cells": [
  {
   "cell_type": "markdown",
   "metadata": {},
   "source": [
    "# 函数式编程"
   ]
  },
  {
   "cell_type": "markdown",
   "metadata": {},
   "source": [
    "## Map filter reduce"
   ]
  },
  {
   "cell_type": "markdown",
   "metadata": {},
   "source": [
    "## 返回函数"
   ]
  },
  {
   "cell_type": "code",
   "execution_count": 97,
   "metadata": {
    "ExecuteTime": {
     "end_time": "2019-01-01T02:35:48.469272Z",
     "start_time": "2019-01-01T02:35:48.466853Z"
    }
   },
   "outputs": [],
   "source": [
    "def calc_sum(lst):\n",
    "    def lazy_sum():\n",
    "        return sum(lst)\n",
    "    return lazy_sum"
   ]
  },
  {
   "cell_type": "code",
   "execution_count": 98,
   "metadata": {
    "ExecuteTime": {
     "end_time": "2019-01-01T02:35:48.876424Z",
     "start_time": "2019-01-01T02:35:48.873172Z"
    }
   },
   "outputs": [
    {
     "data": {
      "text/plain": [
       "<function __main__.calc_sum.<locals>.lazy_sum()>"
      ]
     },
     "execution_count": 98,
     "metadata": {},
     "output_type": "execute_result"
    }
   ],
   "source": [
    "f = calc_sum([1, 2, 3, 4])\n",
    "f"
   ]
  },
  {
   "cell_type": "code",
   "execution_count": 99,
   "metadata": {
    "ExecuteTime": {
     "end_time": "2019-01-01T02:35:49.414757Z",
     "start_time": "2019-01-01T02:35:49.411057Z"
    }
   },
   "outputs": [
    {
     "data": {
      "text/plain": [
       "10"
      ]
     },
     "execution_count": 99,
     "metadata": {},
     "output_type": "execute_result"
    }
   ],
   "source": [
    "f()"
   ]
  },
  {
   "cell_type": "markdown",
   "metadata": {},
   "source": [
    "另一个例子"
   ]
  },
  {
   "cell_type": "code",
   "execution_count": 95,
   "metadata": {
    "ExecuteTime": {
     "end_time": "2019-01-01T02:34:33.408581Z",
     "start_time": "2019-01-01T02:34:33.405803Z"
    }
   },
   "outputs": [],
   "source": [
    "def count():\n",
    "    def f(j):\n",
    "        def g():\n",
    "            return j*j\n",
    "        return g\n",
    "    fs = []\n",
    "    for i in range(1, 4):\n",
    "        fs.append(f(i)) # f(i)立刻被执行，因此i的当前值被传入f()\n",
    "    return fs\n"
   ]
  },
  {
   "cell_type": "code",
   "execution_count": 96,
   "metadata": {
    "ExecuteTime": {
     "end_time": "2019-01-01T02:34:33.746326Z",
     "start_time": "2019-01-01T02:34:33.742754Z"
    }
   },
   "outputs": [
    {
     "name": "stdout",
     "output_type": "stream",
     "text": [
      "1\n",
      "4\n",
      "[<function count.<locals>.f.<locals>.g at 0x116b562f0>, <function count.<locals>.f.<locals>.g at 0x116b56950>, <function count.<locals>.f.<locals>.g at 0x116b56620>]\n"
     ]
    }
   ],
   "source": [
    "f1, f2, f3 = count()\n",
    "print(f1())\n",
    "print(f2())\n",
    "print(count())"
   ]
  },
  {
   "cell_type": "markdown",
   "metadata": {
    "ExecuteTime": {
     "end_time": "2018-12-31T13:39:17.598493Z",
     "start_time": "2018-12-31T13:39:17.590253Z"
    }
   },
   "source": [
    "# curry?\n",
    "允许接受多个参数的函数可以分次执行，每次只接受一个参数\n",
    "\n",
    "http://python.jobbole.com/86950/\n",
    "\n",
    "https://mtomassoli.wordpress.com/2012/03/18/currying-in-python/"
   ]
  },
  {
   "cell_type": "code",
   "execution_count": 112,
   "metadata": {
    "ExecuteTime": {
     "end_time": "2019-01-01T02:53:47.694650Z",
     "start_time": "2019-01-01T02:53:47.690208Z"
    }
   },
   "outputs": [
    {
     "data": {
      "text/plain": [
       "19"
      ]
     },
     "execution_count": 112,
     "metadata": {},
     "output_type": "execute_result"
    }
   ],
   "source": [
    "from fn.func import curried  \n",
    "@curried\n",
    "def sum5(a, b, c, d, e):  \n",
    "    return a + b + c + d + e\n",
    " \n",
    "sum4 = sum5(1)  \n",
    "sum3 = sum4(3,4)  \n",
    "sum2 = sum3(8)\n",
    "sum2(3)"
   ]
  },
  {
   "cell_type": "markdown",
   "metadata": {},
   "source": [
    "# partial!\n"
   ]
  },
  {
   "cell_type": "markdown",
   "metadata": {
    "ExecuteTime": {
     "end_time": "2019-01-01T02:39:40.677411Z",
     "start_time": "2019-01-01T02:39:40.674229Z"
    }
   },
   "source": [
    "我最初的目的是为了能在一个函数里面的循环中调用另外一个函数。被调用函数的输入来自于循环的结果，所以变量是分步传入的。Currying 不能实现自变量数量不定的情况"
   ]
  },
  {
   "cell_type": "code",
   "execution_count": 113,
   "metadata": {
    "ExecuteTime": {
     "end_time": "2019-01-01T02:53:49.113081Z",
     "start_time": "2019-01-01T02:53:49.106918Z"
    }
   },
   "outputs": [
    {
     "name": "stdout",
     "output_type": "stream",
     "text": [
      "__________\n",
      "(1, 2)\n",
      "   1\n",
      "   2\n",
      "3\n",
      "__________\n",
      "(1, 2, 3, 10)\n",
      "   1\n",
      "   2\n",
      "   3\n",
      "   10\n",
      "16\n",
      "__________\n"
     ]
    }
   ],
   "source": [
    "from functools import partial\n",
    "\n",
    "def func1(*args):\n",
    "    print(args)\n",
    "    ax = 0\n",
    "    for i in args:\n",
    "        print('  ',i)\n",
    "        ax += i\n",
    "    return ax\n",
    "p_func1 = partial(func1,1)\n",
    "print('_'*10)\n",
    "print(p_func1(2))\n",
    "print('_'*10)\n",
    "p_func1 = partial(func1,1)\n",
    "p_func1 = partial(p_func1,2)\n",
    "p_func1 = partial(p_func1,3)\n",
    "print(p_func1(10))\n",
    "print('_'*10)\n"
   ]
  }
 ],
 "metadata": {
  "kernelspec": {
   "display_name": "Python 3",
   "language": "python",
   "name": "python3"
  },
  "language_info": {
   "codemirror_mode": {
    "name": "ipython",
    "version": 3
   },
   "file_extension": ".py",
   "mimetype": "text/x-python",
   "name": "python",
   "nbconvert_exporter": "python",
   "pygments_lexer": "ipython3",
   "version": "3.7.0"
  },
  "toc": {
   "base_numbering": 1,
   "nav_menu": {},
   "number_sections": true,
   "sideBar": true,
   "skip_h1_title": false,
   "title_cell": "Table of Contents",
   "title_sidebar": "Contents",
   "toc_cell": false,
   "toc_position": {},
   "toc_section_display": true,
   "toc_window_display": false
  },
  "varInspector": {
   "cols": {
    "lenName": 16,
    "lenType": 16,
    "lenVar": 40
   },
   "kernels_config": {
    "python": {
     "delete_cmd_postfix": "",
     "delete_cmd_prefix": "del ",
     "library": "var_list.py",
     "varRefreshCmd": "print(var_dic_list())"
    },
    "r": {
     "delete_cmd_postfix": ") ",
     "delete_cmd_prefix": "rm(",
     "library": "var_list.r",
     "varRefreshCmd": "cat(var_dic_list()) "
    }
   },
   "types_to_exclude": [
    "module",
    "function",
    "builtin_function_or_method",
    "instance",
    "_Feature"
   ],
   "window_display": false
  }
 },
 "nbformat": 4,
 "nbformat_minor": 2
}
