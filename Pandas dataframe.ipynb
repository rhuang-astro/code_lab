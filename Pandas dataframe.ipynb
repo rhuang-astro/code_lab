{
 "cells": [
  {
   "cell_type": "markdown",
   "metadata": {},
   "source": [
    "# Pandas dataframe"
   ]
  },
  {
   "cell_type": "markdown",
   "metadata": {},
   "source": [
    "## From a list of dicts¶\n",
    "### 需求\n",
    "我的需求是存储下面这样的变量类型。 同时我会增加row"
   ]
  },
  {
   "cell_type": "code",
   "execution_count": 44,
   "metadata": {
    "ExecuteTime": {
     "end_time": "2019-01-01T06:14:56.507628Z",
     "start_time": "2019-01-01T06:14:56.501984Z"
    }
   },
   "outputs": [
    {
     "data": {
      "text/plain": [
       "[[4, 2, 'i', array([1, 2, 3])], [4, 2, 'i', array([1, 2, 3])]]"
      ]
     },
     "execution_count": 44,
     "metadata": {},
     "output_type": "execute_result"
    }
   ],
   "source": [
    "[[4, 2, 'i', np.array([1, 2, 3])], [4, 2, 'i', np.array([1, 2, 3])]]"
   ]
  },
  {
   "cell_type": "markdown",
   "metadata": {},
   "source": [
    "### prepare"
   ]
  },
  {
   "cell_type": "code",
   "execution_count": 45,
   "metadata": {
    "ExecuteTime": {
     "end_time": "2019-01-01T06:15:18.139083Z",
     "start_time": "2019-01-01T06:15:18.136554Z"
    }
   },
   "outputs": [],
   "source": [
    "import pandas as pd\n",
    "import numpy as np\n",
    "Time = np.arange(10)\n",
    "Lon = np.arange(10)\n",
    "Lat = np.arange(10)"
   ]
  },
  {
   "cell_type": "markdown",
   "metadata": {},
   "source": [
    "### a list of dicts"
   ]
  },
  {
   "cell_type": "code",
   "execution_count": 46,
   "metadata": {
    "ExecuteTime": {
     "end_time": "2019-01-01T06:15:39.568308Z",
     "start_time": "2019-01-01T06:15:39.563400Z"
    }
   },
   "outputs": [
    {
     "data": {
      "text/plain": [
       "[{'Time': array([0, 1, 2, 3, 4, 5, 6, 7, 8, 9]),\n",
       "  'Lon': array([0, 1, 2, 3, 4, 5, 6, 7, 8, 9]),\n",
       "  'Lat': array([0, 1, 2, 3, 4, 5, 6, 7, 8, 9]),\n",
       "  'Lon_label': 'Lon_09'},\n",
       " {'Time': array([0, 1, 2, 3, 4, 5, 6, 7, 8, 9]),\n",
       "  'Lon': array([0, 1, 2, 3, 4, 5, 6, 7, 8, 9]),\n",
       "  'Lat': array([0, 1, 2, 3, 4, 5, 6, 7, 8, 9]),\n",
       "  'Lon_label': 'Lon_10'}]"
      ]
     },
     "execution_count": 46,
     "metadata": {},
     "output_type": "execute_result"
    }
   ],
   "source": [
    "data0 = [{'Time': Time, 'Lon': Lon, 'Lat': Lat, 'Lon_label':'Lon_09' }, {'Time': Time, 'Lon': Lon, 'Lat': Lat, 'Lon_label':'Lon_10' }]\n",
    "data0"
   ]
  },
  {
   "cell_type": "markdown",
   "metadata": {},
   "source": [
    "### append list to update data"
   ]
  },
  {
   "cell_type": "code",
   "execution_count": 47,
   "metadata": {
    "ExecuteTime": {
     "end_time": "2019-01-01T06:16:03.467982Z",
     "start_time": "2019-01-01T06:16:03.463103Z"
    }
   },
   "outputs": [
    {
     "data": {
      "text/plain": [
       "[{'Time': array([0, 1, 2, 3, 4, 5, 6, 7, 8, 9]),\n",
       "  'Lon': array([0, 1, 2, 3, 4, 5, 6, 7, 8, 9]),\n",
       "  'Lat': array([0, 1, 2, 3, 4, 5, 6, 7, 8, 9]),\n",
       "  'Lon_label': 'Lon_09'},\n",
       " {'Time': array([0, 1, 2, 3, 4, 5, 6, 7, 8, 9]),\n",
       "  'Lon': array([0, 1, 2, 3, 4, 5, 6, 7, 8, 9]),\n",
       "  'Lat': array([0, 1, 2, 3, 4, 5, 6, 7, 8, 9]),\n",
       "  'Lon_label': 'Lon_10'},\n",
       " {'Time': array([0, 1, 2, 3, 4, 5, 6, 7, 8, 9]),\n",
       "  'Lon': array([0, 1, 2, 3, 4, 5, 6, 7, 8, 9]),\n",
       "  'Lat': array([0, 1, 2, 3, 4, 5, 6, 7, 8, 9]),\n",
       "  'Lon_label': 'Lon_11'}]"
      ]
     },
     "execution_count": 47,
     "metadata": {},
     "output_type": "execute_result"
    }
   ],
   "source": [
    "data0.append({'Time': Time, 'Lon': Lon, 'Lat': Lat, 'Lon_label':'Lon_11' })\n",
    "data0"
   ]
  },
  {
   "cell_type": "markdown",
   "metadata": {},
   "source": [
    "### to dataframe"
   ]
  },
  {
   "cell_type": "code",
   "execution_count": 49,
   "metadata": {
    "ExecuteTime": {
     "end_time": "2019-01-01T06:16:26.851208Z",
     "start_time": "2019-01-01T06:16:26.840951Z"
    }
   },
   "outputs": [
    {
     "data": {
      "text/html": [
       "<div>\n",
       "<style scoped>\n",
       "    .dataframe tbody tr th:only-of-type {\n",
       "        vertical-align: middle;\n",
       "    }\n",
       "\n",
       "    .dataframe tbody tr th {\n",
       "        vertical-align: top;\n",
       "    }\n",
       "\n",
       "    .dataframe thead th {\n",
       "        text-align: right;\n",
       "    }\n",
       "</style>\n",
       "<table border=\"1\" class=\"dataframe\">\n",
       "  <thead>\n",
       "    <tr style=\"text-align: right;\">\n",
       "      <th></th>\n",
       "      <th>Lat</th>\n",
       "      <th>Lon</th>\n",
       "      <th>Lon_label</th>\n",
       "      <th>Time</th>\n",
       "    </tr>\n",
       "  </thead>\n",
       "  <tbody>\n",
       "    <tr>\n",
       "      <th>0</th>\n",
       "      <td>[0, 1, 2, 3, 4, 5, 6, 7, 8, 9]</td>\n",
       "      <td>[0, 1, 2, 3, 4, 5, 6, 7, 8, 9]</td>\n",
       "      <td>Lon_09</td>\n",
       "      <td>[0, 1, 2, 3, 4, 5, 6, 7, 8, 9]</td>\n",
       "    </tr>\n",
       "    <tr>\n",
       "      <th>1</th>\n",
       "      <td>[0, 1, 2, 3, 4, 5, 6, 7, 8, 9]</td>\n",
       "      <td>[0, 1, 2, 3, 4, 5, 6, 7, 8, 9]</td>\n",
       "      <td>Lon_10</td>\n",
       "      <td>[0, 1, 2, 3, 4, 5, 6, 7, 8, 9]</td>\n",
       "    </tr>\n",
       "    <tr>\n",
       "      <th>2</th>\n",
       "      <td>[0, 1, 2, 3, 4, 5, 6, 7, 8, 9]</td>\n",
       "      <td>[0, 1, 2, 3, 4, 5, 6, 7, 8, 9]</td>\n",
       "      <td>Lon_11</td>\n",
       "      <td>[0, 1, 2, 3, 4, 5, 6, 7, 8, 9]</td>\n",
       "    </tr>\n",
       "  </tbody>\n",
       "</table>\n",
       "</div>"
      ],
      "text/plain": [
       "                              Lat                             Lon Lon_label  \\\n",
       "0  [0, 1, 2, 3, 4, 5, 6, 7, 8, 9]  [0, 1, 2, 3, 4, 5, 6, 7, 8, 9]    Lon_09   \n",
       "1  [0, 1, 2, 3, 4, 5, 6, 7, 8, 9]  [0, 1, 2, 3, 4, 5, 6, 7, 8, 9]    Lon_10   \n",
       "2  [0, 1, 2, 3, 4, 5, 6, 7, 8, 9]  [0, 1, 2, 3, 4, 5, 6, 7, 8, 9]    Lon_11   \n",
       "\n",
       "                             Time  \n",
       "0  [0, 1, 2, 3, 4, 5, 6, 7, 8, 9]  \n",
       "1  [0, 1, 2, 3, 4, 5, 6, 7, 8, 9]  \n",
       "2  [0, 1, 2, 3, 4, 5, 6, 7, 8, 9]  "
      ]
     },
     "execution_count": 49,
     "metadata": {},
     "output_type": "execute_result"
    }
   ],
   "source": [
    "data = pd.DataFrame(data0)\n",
    "data"
   ]
  },
  {
   "cell_type": "markdown",
   "metadata": {},
   "source": [
    "### Item selection"
   ]
  },
  {
   "cell_type": "code",
   "execution_count": 50,
   "metadata": {
    "ExecuteTime": {
     "end_time": "2019-01-01T06:16:34.777560Z",
     "start_time": "2019-01-01T06:16:34.773264Z"
    }
   },
   "outputs": [
    {
     "data": {
      "text/plain": [
       "array([0, 1, 2, 3, 4, 5, 6, 7, 8, 9])"
      ]
     },
     "execution_count": 50,
     "metadata": {},
     "output_type": "execute_result"
    }
   ],
   "source": [
    "data['Lat'][0]"
   ]
  },
  {
   "cell_type": "code",
   "execution_count": 51,
   "metadata": {
    "ExecuteTime": {
     "end_time": "2019-01-01T06:16:35.152583Z",
     "start_time": "2019-01-01T06:16:35.143796Z"
    }
   },
   "outputs": [
    {
     "data": {
      "text/html": [
       "<div>\n",
       "<style scoped>\n",
       "    .dataframe tbody tr th:only-of-type {\n",
       "        vertical-align: middle;\n",
       "    }\n",
       "\n",
       "    .dataframe tbody tr th {\n",
       "        vertical-align: top;\n",
       "    }\n",
       "\n",
       "    .dataframe thead th {\n",
       "        text-align: right;\n",
       "    }\n",
       "</style>\n",
       "<table border=\"1\" class=\"dataframe\">\n",
       "  <thead>\n",
       "    <tr style=\"text-align: right;\">\n",
       "      <th></th>\n",
       "      <th>Lat</th>\n",
       "      <th>Lon</th>\n",
       "      <th>Lon_label</th>\n",
       "      <th>Time</th>\n",
       "    </tr>\n",
       "  </thead>\n",
       "  <tbody>\n",
       "    <tr>\n",
       "      <th>1</th>\n",
       "      <td>[0, 1, 2, 3, 4, 5, 6, 7, 8, 9]</td>\n",
       "      <td>[0, 1, 2, 3, 4, 5, 6, 7, 8, 9]</td>\n",
       "      <td>Lon_10</td>\n",
       "      <td>[0, 1, 2, 3, 4, 5, 6, 7, 8, 9]</td>\n",
       "    </tr>\n",
       "    <tr>\n",
       "      <th>2</th>\n",
       "      <td>[0, 1, 2, 3, 4, 5, 6, 7, 8, 9]</td>\n",
       "      <td>[0, 1, 2, 3, 4, 5, 6, 7, 8, 9]</td>\n",
       "      <td>Lon_11</td>\n",
       "      <td>[0, 1, 2, 3, 4, 5, 6, 7, 8, 9]</td>\n",
       "    </tr>\n",
       "  </tbody>\n",
       "</table>\n",
       "</div>"
      ],
      "text/plain": [
       "                              Lat                             Lon Lon_label  \\\n",
       "1  [0, 1, 2, 3, 4, 5, 6, 7, 8, 9]  [0, 1, 2, 3, 4, 5, 6, 7, 8, 9]    Lon_10   \n",
       "2  [0, 1, 2, 3, 4, 5, 6, 7, 8, 9]  [0, 1, 2, 3, 4, 5, 6, 7, 8, 9]    Lon_11   \n",
       "\n",
       "                             Time  \n",
       "1  [0, 1, 2, 3, 4, 5, 6, 7, 8, 9]  \n",
       "2  [0, 1, 2, 3, 4, 5, 6, 7, 8, 9]  "
      ]
     },
     "execution_count": 51,
     "metadata": {},
     "output_type": "execute_result"
    }
   ],
   "source": [
    "data[1:]"
   ]
  }
 ],
 "metadata": {
  "kernelspec": {
   "display_name": "Python 3",
   "language": "python",
   "name": "python3"
  },
  "language_info": {
   "codemirror_mode": {
    "name": "ipython",
    "version": 3
   },
   "file_extension": ".py",
   "mimetype": "text/x-python",
   "name": "python",
   "nbconvert_exporter": "python",
   "pygments_lexer": "ipython3",
   "version": "3.7.0"
  },
  "toc": {
   "base_numbering": 1,
   "nav_menu": {},
   "number_sections": true,
   "sideBar": true,
   "skip_h1_title": false,
   "title_cell": "Table of Contents",
   "title_sidebar": "Contents",
   "toc_cell": false,
   "toc_position": {},
   "toc_section_display": true,
   "toc_window_display": false
  },
  "varInspector": {
   "cols": {
    "lenName": 16,
    "lenType": 16,
    "lenVar": 40
   },
   "kernels_config": {
    "python": {
     "delete_cmd_postfix": "",
     "delete_cmd_prefix": "del ",
     "library": "var_list.py",
     "varRefreshCmd": "print(var_dic_list())"
    },
    "r": {
     "delete_cmd_postfix": ") ",
     "delete_cmd_prefix": "rm(",
     "library": "var_list.r",
     "varRefreshCmd": "cat(var_dic_list()) "
    }
   },
   "types_to_exclude": [
    "module",
    "function",
    "builtin_function_or_method",
    "instance",
    "_Feature"
   ],
   "window_display": false
  }
 },
 "nbformat": 4,
 "nbformat_minor": 2
}
